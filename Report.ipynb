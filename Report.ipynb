{
 "cells": [
  {
   "cell_type": "markdown",
   "metadata": {},
   "source": [
    "# 文本聚类作业报告\n",
    "    - 邵智轩\n",
    "    - 1400012141\n",
    "    - 物理学院\n",
    "    \n",
    "## 总览\n",
    "    \n",
    "### 数据\n",
    "中文微博文本\n",
    "\n",
    "### 任务\n",
    "聚类，类的个数$K$为可调参数\n",
    "\n",
    "### 特征及维数\n",
    "特征直接采用`sklearn.feature_extraction.text.tfidfVectorizer`提取，这里有两个可调参数：`min_df`和`use_idf`。其中，简单的实验发现多数情况下`use_idf = True`的分类效果较好。而`min_df`会将总频数低于某一设定值的词语从Vocabulary 中删去。\n",
    "\n",
    "使用`sklearn.decomposition.TruncatedSVD`进一步降维至`n_components`，这是一个可调参数。\n",
    "\n",
    "### 聚类评价\n",
    "虽然聚类通常属于无监督学习，但我们其实掌握数据的某一种分类信息（分成“财经，房产，健康，教育，军事，科技，体育，娱乐，证券”，共9个类），所以可以对聚类效果给出评价。助教建议使用“conditional entropy of the classes given the cluster assignments”作为评价，熵值越低认为聚类得越好：\n",
    "\\begin{equation}\n",
    "    H(C|K)=-\\sum_{c=1}^{|C|}\\sum_{k=1}^{|K|}\\frac{n_c,k}{n}\\log\\left(\\frac{n_{c,k}}{n_k}\\right)\n",
    "\\end{equation}\n",
    "注意到这与所谓的“homogeneity score”$h$是等价的，定义为：\n",
    "\\begin{equation}\n",
    "    h=1-\\frac{H(C|K)}{H(C)}\n",
    "\\end{equation}\n",
    "\n",
    "这个值在$[0,1]$之间，越大聚类效果越好。可以试想，聚类的个数越多，$h$总会越高，所以我认为不应单纯采用熵作为评价。下面考虑一些修正后的评价：\n",
    "\n",
    "`sklearn.metrics`中提供了很多measure，其中`homogeneity_completeness_v_measure`函数返回三个score，其中第一个值为homogeneity score $h$，后两个分别为“completeness score”$c$：\n",
    "\\begin{equation}\n",
    "    c=1-\\frac{H(K|C)}{H(K)}\n",
    "\\end{equation}\n",
    "和“v_measure” $v$：\n",
    "\\begin{equation}\n",
    "    v=2\\frac{h\\cdot c}{h+c}\n",
    "\\end{equation}\n",
    "当聚类个数$K$过多时，后两个score就会下降。\n",
    "\n",
    "另一个指标是`adjusted_mutual_information`。\n",
    "\n",
    "### 聚类方法\n",
    "采用余弦相似度（`scipy.spatial.distance.pdist(metric='cosine')`）定义文本之间的距离。然后用Hierarchical Clustering中的Agglomerative（bottom-up)算法，并将类之间的linkage选为“average”。`scikit-learn`库中`AgglomerativeClustering(linkage=\"average\")`可以实现此功能。我手写了`My_Agglomerative`函数，并比对结果。实验证明两个函数给出的聚类完全相同（聚类预测的Adjusted mutual information = 1），但是当样本量$n$很大时，运算效率差异非常大，这可能是自己写的算法不够合理。\n",
    "\n",
    "## 实验结果\n"
   ]
  },
  {
   "cell_type": "code",
   "execution_count": 1,
   "metadata": {},
   "outputs": [
    {
     "name": "stdout",
     "output_type": "stream",
     "text": [
      "pdist: 0.0007321291024150066\n",
      "scipy: 0.015261059340592952\n"
     ]
    },
    {
     "name": "stderr",
     "output_type": "stream",
     "text": [
      "100%|███████████████████████████████████████████████████████████████████████| 98/98 [00:00<00:00, 1127.58it/s]\n"
     ]
    },
    {
     "name": "stdout",
     "output_type": "stream",
     "text": [
      "My Agglometative: 0.10706982223497606\n",
      "[6 6 9 4 8 9 2 6 3 0 0 4 1 9 2 4 2 6 4 0 0 1 3 0 3 1 0 1 0 5 0 4 2 4 0 7 5\n",
      " 9 7 3 5 4 1 2 1 9 8 4 3 0 0 4 8 9 2 3 0 5 6 8 0 3 4 4 1 7 9 4 1 6 1 0 7 3\n",
      " 0 4 8 0 1 7 7 1 6 8 6 4 3 7 2 1 0 1 7 5 8 0 4 2 4 1]\n",
      "Adjusted Mutual Information: 1.0\n"
     ]
    }
   ],
   "source": [
    "import text_data\n",
    "from sklearn.feature_extraction import text\n",
    "from sklearn.decomposition import TruncatedSVD\n",
    "from sklearn.cluster import KMeans, AgglomerativeClustering\n",
    "import score_data\n",
    "import numpy as np\n",
    "from sklearn import metrics\n",
    "from scipy import spatial,cluster\n",
    "import My_Agglomerative as myag"
   ]
  },
  {
   "cell_type": "markdown",
   "metadata": {},
   "source": [
    "以上验证了我的算法是正确的（给出与标准库函数相同的预测，up to a permutation）。\n",
    "\n",
    "用`GridSearch.py`寻找最优超参数，如下的参数的效果就还不错"
   ]
  },
  {
   "cell_type": "code",
   "execution_count": 2,
   "metadata": {},
   "outputs": [],
   "source": [
    "use_idf=True\n",
    "least_freq=5\n",
    "n_clusters=13\n",
    "n_components=100\n",
    "affinity='cosine'\n",
    "linkage='average'\n",
    "\n",
    "filename=str(n_clusters)+r\"_\"+str(least_freq)+r\"_\"+str(n_components)+r\".txt\""
   ]
  },
  {
   "cell_type": "code",
   "execution_count": 3,
   "metadata": {},
   "outputs": [
    {
     "name": "stderr",
     "output_type": "stream",
     "text": [
      "100%|███████████████████████████████████████████████████████████████████████████| 9/9 [00:04<00:00,  2.24it/s]\n"
     ]
    }
   ],
   "source": [
    "data=text_data.load_data(type=\"str\")"
   ]
  },
  {
   "cell_type": "code",
   "execution_count": 4,
   "metadata": {},
   "outputs": [
    {
     "name": "stdout",
     "output_type": "stream",
     "text": [
      "词典总词数: 11449\n"
     ]
    }
   ],
   "source": [
    "countVectorizer=text.TfidfVectorizer(input='content',min_df=least_freq, use_idf=use_idf)# 最少总共出现过min_df次\n",
    "term_freq=countVectorizer.fit_transform(data)\n",
    "print('词典总词数:',len(countVectorizer.vocabulary_))\n",
    "#print(countVectorizer.vocabulary_)"
   ]
  },
  {
   "cell_type": "code",
   "execution_count": 5,
   "metadata": {},
   "outputs": [
    {
     "name": "stdout",
     "output_type": "stream",
     "text": [
      "Explained variance of the SVD step: 13%\n"
     ]
    }
   ],
   "source": [
    "svd=TruncatedSVD(n_components=n_components)\n",
    "svd_result=svd.fit_transform(term_freq)\n",
    "print(\"Explained variance of the SVD step: {}%\".format(\n",
    "    int(svd.explained_variance_ratio_.sum() * 100)))"
   ]
  },
  {
   "cell_type": "code",
   "execution_count": 6,
   "metadata": {},
   "outputs": [],
   "source": [
    "# 为了防止全零行计算cosine affinity 出错补上一个标志\n",
    "def mark_allzeros(matrix):\n",
    "    mark=np.prod(matrix==0,axis=1)\n",
    "    return np.concatenate((matrix,mark.reshape((len(mark),1))),axis=1)\n",
    "\n",
    "marked_svd=mark_allzeros(svd_result)"
   ]
  },
  {
   "cell_type": "code",
   "execution_count": 7,
   "metadata": {},
   "outputs": [],
   "source": [
    "Dist=spatial.distance.pdist(marked_svd,metric=\"cosine\")\n",
    "sci_result=cluster.hierarchy.linkage(Dist,method=\"average\")"
   ]
  },
  {
   "cell_type": "code",
   "execution_count": 13,
   "metadata": {},
   "outputs": [
    {
     "data": {
      "image/png": "[encoded data removed]",
      "text/plain": [
       "<Figure size 432x288 with 1 Axes>"
      ]
     },
     "metadata": {},
     "output_type": "display_data"
    }
   ],
   "source": [
    "from matplotlib import pyplot as plt\n",
    "dn=cluster.hierarchy.dendrogram(sci_result)\n",
    "plt.show()# 树状图"
   ]
  },
  {
   "cell_type": "code",
   "execution_count": 9,
   "metadata": {},
   "outputs": [],
   "source": [
    "#sk_Aggl=AgglomerativeClustering(n_clusters=n_clusters,affinity=affinity,linkage=linkage)\n",
    "#sk_pred=sk_Aggl.fit_predict(marked_svd)"
   ]
  },
  {
   "cell_type": "code",
   "execution_count": 10,
   "metadata": {},
   "outputs": [],
   "source": [
    "my_pred=myag.MyAgglomerativeClustering(Dist)\n",
    "label_pred=myag.MyAggl_pred(np.array(my_pred,dtype=int)[:,:2],n_clusters=n_clusters)\n",
    "text_data.save_json([int(i) for i in label_pred],filename)"
   ]
  },
  {
   "cell_type": "code",
   "execution_count": 11,
   "metadata": {},
   "outputs": [],
   "source": [
    "label_pred=text_data.load_json(filename)"
   ]
  },
  {
   "cell_type": "code",
   "execution_count": 12,
   "metadata": {},
   "outputs": [
    {
     "name": "stdout",
     "output_type": "stream",
     "text": [
      "[[ 117  109   88    6 1786   99    1    1   18   62   81    4    3]\n",
      " [  86  142    7    4  850   27    0    0   43    5   43    4    0]\n",
      " [ 535   30    7    2   43   14    1    0    1    0   32    5    0]\n",
      " [ 150  157    2   10   67   34    0    0    0    0   26    1    0]\n",
      " [   3   27    3    5   20  694    0    2    0    0   37    0    0]\n",
      " [  12   55  451    6  514   63    0    0    3  199   39   15   40]\n",
      " [  54  223    1  481  106   90   74    2    0    2 2234   58    0]\n",
      " [  71 1640   11   53  176  146    1    2    3    4  102   46    0]\n",
      " [   2    6   16    2 1088   10    1    0    1   18   20    1    2]]\n",
      "Total Entropy: -1.2239146970946375\n",
      "homogeneity_score (0.39710183733996385, 0.431254414058614, 0.41347408169976946)\n"
     ]
    }
   ],
   "source": [
    "for labels_pred in [my_pred]:\n",
    "    count_table=score_data.count_table(text_data.init_num_by_cls,labels_pred,n_clusters)\n",
    "    print(count_table)\n",
    "    total_entropy=score_data.total_entropy(count_table)\n",
    "    print(\"Total Entropy:\",total_entropy)\n",
    "    print(\"homogeneity_score\",metrics.homogeneity_completeness_v_measure(text_data.labels_true(),labels_pred))"
   ]
  },
  {
   "cell_type": "markdown",
   "metadata": {},
   "source": [
    "总结：聚类的结果中，有许多聚类的熵很低（该聚类中的大部分文本都属于同一分类）。从无监督的角度来说，这个简单的算法达到这个效果，我认为基本可以满意。"
   ]
  }
 ],
 "metadata": {
  "kernelspec": {
   "display_name": "Python 3",
   "language": "python",
   "name": "python3"
  },
  "language_info": {
   "codemirror_mode": {
    "name": "ipython",
    "version": 3
   },
   "file_extension": ".py",
   "mimetype": "text/x-python",
   "name": "python",
   "nbconvert_exporter": "python",
   "pygments_lexer": "ipython3",
   "version": "3.6.5"
  }
 },
 "nbformat": 4,
 "nbformat_minor": 2
}
